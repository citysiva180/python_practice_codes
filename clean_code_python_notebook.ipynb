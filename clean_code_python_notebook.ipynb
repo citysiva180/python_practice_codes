{
 "cells": [
  {
   "cell_type": "markdown",
   "metadata": {},
   "source": [
    "# Clean Code with Python!"
   ]
  },
  {
   "cell_type": "markdown",
   "metadata": {},
   "source": [
    "**In this notebook we will be looking at**\n",
    "- Annotations\n",
    "- Docstrings \n",
    "- Type Hinting \n",
    "- Indexes and Slices \n",
    "- Context Managers\n",
    "- Implementing Context Managers\n",
    "- Properties, attributes and Different methods for objects \n",
    "- Underscores in Python \n",
    "- Iterable Objects \n",
    "- Creating Iterable Objects \n",
    "- Creating Sequences \n",
    "- Container Objects \n",
    "- Dynamic Attribute for Objects\n",
    "- Callable Objects \n",
    "- Summary of Magic Methods \n",
    "- Caveats in Python \n",
    "- Mutable Default Argument \n",
    "- Extending Built in types "
   ]
  },
  {
   "cell_type": "markdown",
   "metadata": {},
   "source": [
    "**Docstrings**\n",
    "\n",
    "To simply put docstrings are embedded information about a code or function.A docstring is basically a literal string, placed somewhere in the code, with the intention of documenting that part of the logic. they do not represent comments, but the documentation of a particular component (a module, class, method, or function) in the code. Their use is not only accepted but also encouraged. It is a good practice to add docstrings whenever possible."
   ]
  },
  {
   "cell_type": "code",
   "execution_count": 2,
   "metadata": {},
   "outputs": [
    {
     "data": {
      "text/plain": [
       "'Hello, World!'"
      ]
     },
     "execution_count": 2,
     "metadata": {},
     "output_type": "execute_result"
    }
   ],
   "source": [
    "# here is an example of a docstring!\n",
    "\n",
    "def say_hello_to_anything(new_world :str)->str:\n",
    "    # the below content within the triple quotes is a docstring \n",
    "    # unlike comment, docstrings are a part of the code\n",
    "    \"\"\"This program returns a Hello on passing any word! \n",
    "\n",
    "    Args:\n",
    "        new_world (str): This will be the input string\n",
    "\n",
    "    Returns:\n",
    "        str: returns a string in format (Hello, new_world:str)\n",
    "    \"\"\"\n",
    "    \n",
    "    return \"Hello, \" + new_world\n",
    "\n",
    "say_hello_to_anything(\"World!\")\n",
    "\n"
   ]
  },
  {
   "cell_type": "markdown",
   "metadata": {},
   "source": [
    "To access docstrings we could use the `__doc__ ` magic method. Using this we should be able to get the details of the function \n",
    "and know what parameters should not be passed to this function. \n",
    "\n",
    "- docstrings play an important role in giving information on the function \n",
    "- adding details to docstrings will make your code look mature however you will need to be very contextual on what you add there \n",
    "- the `__doc__` function helps in getting to know about the function you are working with"
   ]
  },
  {
   "cell_type": "code",
   "execution_count": 5,
   "metadata": {},
   "outputs": [
    {
     "data": {
      "text/plain": [
       "'This program returns a Hello on passing any word!\\n\\n    Args:\\n        new_world (str): This will be the input string\\n\\n    Returns:\\n        str: returns a string in format (Hello, new_world:str)\\n    '"
      ]
     },
     "execution_count": 5,
     "metadata": {},
     "output_type": "execute_result"
    }
   ],
   "source": [
    "say_hello_to_anything.__doc__"
   ]
  },
  {
   "cell_type": "markdown",
   "metadata": {},
   "source": [
    "There is one extra improvement made in regards to annotations at the time of writing this book, and that is that starting from Python 3.6, it is possible to annotate variables directly, not just function parameters and return types. This was introduced in PEP-526, and the idea is that you can declare the types of some variables defined without necessarily assigning a value to them, as shown in the following listing:"
   ]
  },
  {
   "cell_type": "code",
   "execution_count": 8,
   "metadata": {},
   "outputs": [],
   "source": [
    "class Point:\n",
    "    lat: float\n",
    "    long: float"
   ]
  },
  {
   "cell_type": "code",
   "execution_count": 9,
   "metadata": {},
   "outputs": [
    {
     "data": {
      "text/plain": [
       "{'lat': float, 'long': float}"
      ]
     },
     "execution_count": 9,
     "metadata": {},
     "output_type": "execute_result"
    }
   ],
   "source": [
    "Point.__annotations__"
   ]
  },
  {
   "cell_type": "markdown",
   "metadata": {},
   "source": [
    "### Indexes and Slices \n",
    "\n",
    "- Using slices and Indexes helps in accessing a part of the data structure. \n",
    "- Knowing to access Indexes helps in reading a single element from the list\n",
    "- Wherease slices help in getting a part of the list. Here are some examples!"
   ]
  },
  {
   "cell_type": "code",
   "execution_count": 11,
   "metadata": {},
   "outputs": [
    {
     "data": {
      "text/plain": [
       "2"
      ]
     },
     "execution_count": 11,
     "metadata": {},
     "output_type": "execute_result"
    }
   ],
   "source": [
    "my_numbers = (1,2,3,4,5)\n",
    "my_numbers[1]"
   ]
  },
  {
   "cell_type": "markdown",
   "metadata": {},
   "source": [
    "If you enumerate the list given here, you will know the index value of this function "
   ]
  },
  {
   "cell_type": "code",
   "execution_count": 15,
   "metadata": {},
   "outputs": [
    {
     "name": "stdout",
     "output_type": "stream",
     "text": [
      "(0, 1)\n",
      "(1, 2)\n",
      "(2, 3)\n",
      "(3, 4)\n",
      "(4, 5)\n"
     ]
    }
   ],
   "source": [
    "new_numbers = enumerate(my_numbers)\n",
    "for items in new_numbers:\n",
    "    print(items)"
   ]
  },
  {
   "cell_type": "markdown",
   "metadata": {},
   "source": [
    "On looking at this you could see that the list items are paired with their indexes which is super useful! \n",
    "- However to make this more interesting and accessible you create a dictionary key value pair. Which is \n",
    "a hashmap"
   ]
  },
  {
   "cell_type": "code",
   "execution_count": 24,
   "metadata": {},
   "outputs": [],
   "source": [
    "new_dict = {key:value for key,value in enumerate(my_numbers)}"
   ]
  },
  {
   "cell_type": "code",
   "execution_count": 25,
   "metadata": {},
   "outputs": [
    {
     "data": {
      "text/plain": [
       "{0: 1, 1: 2, 2: 3, 3: 4, 4: 5}"
      ]
     },
     "execution_count": 25,
     "metadata": {},
     "output_type": "execute_result"
    }
   ],
   "source": [
    "new_dict"
   ]
  }
 ],
 "metadata": {
  "kernelspec": {
   "display_name": "Python 3",
   "language": "python",
   "name": "python3"
  },
  "language_info": {
   "codemirror_mode": {
    "name": "ipython",
    "version": 3
   },
   "file_extension": ".py",
   "mimetype": "text/x-python",
   "name": "python",
   "nbconvert_exporter": "python",
   "pygments_lexer": "ipython3",
   "version": "3.9.12"
  }
 },
 "nbformat": 4,
 "nbformat_minor": 2
}
