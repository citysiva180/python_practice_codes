{
 "cells": [
  {
   "cell_type": "markdown",
   "metadata": {},
   "source": [
    "# Clean Code with Python!"
   ]
  },
  {
   "cell_type": "markdown",
   "metadata": {},
   "source": [
    "**In this notebook we will be looking at**\n",
    "- Annotations\n",
    "- Docstrings \n",
    "- Type Hinting \n",
    "- Indexes and Slices \n",
    "- Context Managers\n",
    "- Implementing Context Managers\n",
    "- Properties, attributes and Different methods for objects \n",
    "- Underscores in Python \n",
    "- Iterable Objects \n",
    "- Creating Iterable Objects \n",
    "- Creating Sequences \n",
    "- Container Objects \n",
    "- Dynamic Attribute for Objects\n",
    "- Callable Objects \n",
    "- Summary of Magic Methods \n",
    "- Caveats in Python \n",
    "- Mutable Default Argument \n",
    "- Extending Built in types "
   ]
  },
  {
   "cell_type": "markdown",
   "metadata": {},
   "source": [
    "**Docstrings**\n",
    "\n",
    "To simply put docstrings are embedded information about a code or function.A docstring is basically a literal string, placed somewhere in the code, with the intention of documenting that part of the logic. they do not represent comments, but the documentation of a particular component (a module, class, method, or function) in the code. Their use is not only accepted but also encouraged. It is a good practice to add docstrings whenever possible."
   ]
  },
  {
   "cell_type": "code",
   "execution_count": 2,
   "metadata": {},
   "outputs": [
    {
     "data": {
      "text/plain": [
       "'Hello, World!'"
      ]
     },
     "execution_count": 2,
     "metadata": {},
     "output_type": "execute_result"
    }
   ],
   "source": [
    "# here is an example of a docstring!\n",
    "\n",
    "def say_hello_to_anything(new_world :str)->str:\n",
    "    # the below content within the triple quotes is a docstring \n",
    "    # unlike comment, docstrings are a part of the code\n",
    "    \"\"\"This program returns a Hello on passing any word! \n",
    "\n",
    "    Args:\n",
    "        new_world (str): This will be the input string\n",
    "\n",
    "    Returns:\n",
    "        str: returns a string in format (Hello, new_world:str)\n",
    "    \"\"\"\n",
    "    \n",
    "    return \"Hello, \" + new_world\n",
    "\n",
    "say_hello_to_anything(\"World!\")\n",
    "\n"
   ]
  },
  {
   "cell_type": "markdown",
   "metadata": {},
   "source": [
    "To access docstrings we could use the `__doc__ ` magic method. Using this we should be able to get the details of the function \n",
    "and know what parameters should not be passed to this function. \n",
    "\n",
    "- docstrings play an important role in giving information on the function \n",
    "- adding details to docstrings will make your code look mature however you will need to be very contextual on what you add there \n",
    "- the `__doc__` function helps in getting to know about the function you are working with"
   ]
  },
  {
   "cell_type": "code",
   "execution_count": 5,
   "metadata": {},
   "outputs": [
    {
     "data": {
      "text/plain": [
       "'This program returns a Hello on passing any word!\\n\\n    Args:\\n        new_world (str): This will be the input string\\n\\n    Returns:\\n        str: returns a string in format (Hello, new_world:str)\\n    '"
      ]
     },
     "execution_count": 5,
     "metadata": {},
     "output_type": "execute_result"
    }
   ],
   "source": [
    "say_hello_to_anything.__doc__"
   ]
  },
  {
   "cell_type": "markdown",
   "metadata": {},
   "source": [
    "There is one extra improvement made in regards to annotations at the time of writing this book, and that is that starting from Python 3.6, it is possible to annotate variables directly, not just function parameters and return types. This was introduced in PEP-526, and the idea is that you can declare the types of some variables defined without necessarily assigning a value to them, as shown in the following listing:"
   ]
  },
  {
   "cell_type": "code",
   "execution_count": 8,
   "metadata": {},
   "outputs": [],
   "source": [
    "class Point:\n",
    "    lat: float\n",
    "    long: float"
   ]
  },
  {
   "cell_type": "code",
   "execution_count": 9,
   "metadata": {},
   "outputs": [
    {
     "data": {
      "text/plain": [
       "{'lat': float, 'long': float}"
      ]
     },
     "execution_count": 9,
     "metadata": {},
     "output_type": "execute_result"
    }
   ],
   "source": [
    "Point.__annotations__"
   ]
  },
  {
   "cell_type": "markdown",
   "metadata": {},
   "source": [
    "### Indexes and Slices \n",
    "\n",
    "- Using slices and Indexes helps in accessing a part of the data structure. \n",
    "- Knowing to access Indexes helps in reading a single element from the list\n",
    "- Wherease slices help in getting a part of the list. Here are some examples!"
   ]
  },
  {
   "cell_type": "code",
   "execution_count": 11,
   "metadata": {},
   "outputs": [
    {
     "data": {
      "text/plain": [
       "2"
      ]
     },
     "execution_count": 11,
     "metadata": {},
     "output_type": "execute_result"
    }
   ],
   "source": [
    "my_numbers = (1,2,3,4,5)\n",
    "my_numbers[1]"
   ]
  },
  {
   "cell_type": "markdown",
   "metadata": {},
   "source": [
    "If you enumerate the list given here, you will know the index value of this function "
   ]
  },
  {
   "cell_type": "code",
   "execution_count": 15,
   "metadata": {},
   "outputs": [
    {
     "name": "stdout",
     "output_type": "stream",
     "text": [
      "(0, 1)\n",
      "(1, 2)\n",
      "(2, 3)\n",
      "(3, 4)\n",
      "(4, 5)\n"
     ]
    }
   ],
   "source": [
    "new_numbers = enumerate(my_numbers)\n",
    "for items in new_numbers:\n",
    "    print(items)"
   ]
  },
  {
   "cell_type": "markdown",
   "metadata": {},
   "source": [
    "On looking at this you could see that the list items are paired with their indexes which is super useful! \n",
    "- However to make this more interesting and accessible you create a dictionary key value pair. Which is \n",
    "a hashmap"
   ]
  },
  {
   "cell_type": "code",
   "execution_count": 24,
   "metadata": {},
   "outputs": [],
   "source": [
    "new_dict = {key:value for key,value in enumerate(my_numbers)}"
   ]
  },
  {
   "cell_type": "code",
   "execution_count": 25,
   "metadata": {},
   "outputs": [
    {
     "data": {
      "text/plain": [
       "{0: 1, 1: 2, 2: 3, 3: 4, 4: 5}"
      ]
     },
     "execution_count": 25,
     "metadata": {},
     "output_type": "execute_result"
    }
   ],
   "source": [
    "new_dict"
   ]
  },
  {
   "cell_type": "markdown",
   "metadata": {},
   "source": [
    "**Slicing Lists**"
   ]
  },
  {
   "cell_type": "code",
   "execution_count": 26,
   "metadata": {},
   "outputs": [
    {
     "data": {
      "text/plain": [
       "(3, 9)"
      ]
     },
     "execution_count": 26,
     "metadata": {},
     "output_type": "execute_result"
    }
   ],
   "source": [
    "my_numbers = (4, 5, 3, 9)\n",
    "my_numbers[2:5]"
   ]
  },
  {
   "cell_type": "code",
   "execution_count": 27,
   "metadata": {},
   "outputs": [
    {
     "data": {
      "text/plain": [
       "(1, 1, 2)"
      ]
     },
     "execution_count": 27,
     "metadata": {},
     "output_type": "execute_result"
    }
   ],
   "source": [
    "my_numbers = (1, 1, 2, 3, 5, 8, 13, 21)\n",
    "my_numbers[:3]"
   ]
  },
  {
   "cell_type": "code",
   "execution_count": 28,
   "metadata": {},
   "outputs": [
    {
     "data": {
      "text/plain": [
       "(3, 5, 8, 13, 21)"
      ]
     },
     "execution_count": 28,
     "metadata": {},
     "output_type": "execute_result"
    }
   ],
   "source": [
    "my_numbers[3:]"
   ]
  },
  {
   "cell_type": "code",
   "execution_count": 29,
   "metadata": {},
   "outputs": [
    {
     "data": {
      "text/plain": [
       "(1, 3, 8)"
      ]
     },
     "execution_count": 29,
     "metadata": {},
     "output_type": "execute_result"
    }
   ],
   "source": [
    "my_numbers[1:7:2]"
   ]
  },
  {
   "cell_type": "code",
   "execution_count": 30,
   "metadata": {},
   "outputs": [
    {
     "data": {
      "text/plain": [
       "(1, 1, 2, 3, 5, 8, 13, 21)"
      ]
     },
     "execution_count": 30,
     "metadata": {},
     "output_type": "execute_result"
    }
   ],
   "source": [
    "my_numbers[::]"
   ]
  },
  {
   "cell_type": "code",
   "execution_count": 32,
   "metadata": {},
   "outputs": [
    {
     "data": {
      "text/plain": [
       "(1, 3, 8)"
      ]
     },
     "execution_count": 32,
     "metadata": {},
     "output_type": "execute_result"
    }
   ],
   "source": [
    "interval = slice(1, 7, 2)\n",
    "my_numbers[interval]"
   ]
  },
  {
   "cell_type": "markdown",
   "metadata": {},
   "source": [
    "You should always prefer to use this built-in syntax for slices, as opposed to manually trying to iterate the tuple, string, or list inside a for loop, excluding the elements by hand."
   ]
  },
  {
   "cell_type": "markdown",
   "metadata": {},
   "source": [
    "### Creating your own Sequences!"
   ]
  },
  {
   "cell_type": "markdown",
   "metadata": {},
   "source": [
    "- by using the functions `__getitem__` and `__len__` we can create our own sequences \n",
    "- This can help to create a custom sequence\n",
    "- Here is a custom iterable class"
   ]
  },
  {
   "cell_type": "code",
   "execution_count": 63,
   "metadata": {},
   "outputs": [],
   "source": [
    "class Items:\n",
    "    def __init__(self, *values):\n",
    "        self._values = list(values)\n",
    "        \n",
    "    def __len__(self):\n",
    "        return len(self._values)\n",
    "    \n",
    "    def __getitem__(self,item):\n",
    "        return self._values[item]"
   ]
  },
  {
   "cell_type": "markdown",
   "metadata": {},
   "source": [
    "This example uses encapsulation. Another way of doing it is through inheritance, in which case we will have to extend the collections.UserList base class, with the considerations and caveats mentioned in the last part of this chapter."
   ]
  },
  {
   "cell_type": "code",
   "execution_count": 64,
   "metadata": {},
   "outputs": [],
   "source": [
    "new_iterable = Items(1,2,3,4,5)"
   ]
  },
  {
   "cell_type": "code",
   "execution_count": 65,
   "metadata": {},
   "outputs": [
    {
     "name": "stdout",
     "output_type": "stream",
     "text": [
      "5\n"
     ]
    }
   ],
   "source": [
    "output = len(new_iterable)\n",
    "print(output)"
   ]
  },
  {
   "cell_type": "code",
   "execution_count": 66,
   "metadata": {},
   "outputs": [
    {
     "data": {
      "text/plain": [
       "4"
      ]
     },
     "execution_count": 66,
     "metadata": {},
     "output_type": "execute_result"
    }
   ],
   "source": [
    "output = new_iterable[3]\n",
    "output"
   ]
  },
  {
   "cell_type": "markdown",
   "metadata": {},
   "source": [
    "**Points to Remember**\n",
    "- creating custom iterable is super useful to get an maintain data structures \n",
    "- An object that implements both `__getitem__` and `__len__` is recognized as sequence in python"
   ]
  },
  {
   "cell_type": "markdown",
   "metadata": {},
   "source": [
    "### Context Managers"
   ]
  },
  {
   "cell_type": "markdown",
   "metadata": {},
   "source": [
    "- Context managers are a distinctively useful feature that Python provides. \n",
    "- The reason why they are so useful is that they correctly respond to a pattern. \n",
    "- The pattern is actually every situation where we want to run some code, and \n",
    "has preconditions and postconditions, meaning that we want to run things before and after a certain main action."
   ]
  },
  {
   "cell_type": "markdown",
   "metadata": {},
   "source": [
    "**Context managers consist of two magic methods:** `__enter__` and `__exit__`. On the first line of the context manager, the with statement will call the first method, `__enter__`, and whatever this method returns will be assigned to the variable labeled after as. This is optional—we don't really need to return anything specific on the `__enter__` method, and even if we do, there is still no strict reason to assign it to a variable if it is not required.\n",
    "After this line is executed, the code enters a new context, where any other Python code can be run. After the last statement on that block is finished, the context will be exited, meaning that Python will call the `__exit__` method of the original context manager object we first invoked."
   ]
  },
  {
   "cell_type": "code",
   "execution_count": 72,
   "metadata": {},
   "outputs": [],
   "source": [
    "import subprocess\n",
    "import contextlib\n",
    "\n",
    "def run(command):\n",
    "    subprocess.run(command, shell=True)\n",
    "\n",
    "def stop_database():\n",
    "    run(\"systemctl stop postgresql.service\")\n",
    "       \n",
    "def start_database():\n",
    "    run(\"systemctl start postgresql.service\")\n",
    "\n",
    "class DBHandler:\n",
    "\n",
    "    def __enter__(self):\n",
    "        stop_database()\n",
    "        return self\n",
    "\n",
    "    def __exit__(self, exc_type, ex_value, ex_traceback):\n",
    "        start_database()\n",
    "\n",
    "def db_backup():\n",
    "    run(\"pg_dump database\")\n",
    "\n",
    "@contextlib.contextmanager\n",
    "def db_handler():\n",
    "    stop_database()\n",
    "    yield\n",
    "    start_database()\n",
    "\n",
    "\n",
    "def main():\n",
    "    with DBHandler():\n",
    "        db_backup()"
   ]
  },
  {
   "cell_type": "code",
   "execution_count": null,
   "metadata": {},
   "outputs": [],
   "source": [
    "class dbhandler_decorator(contextlib.ContextDecorator):\n",
    "       \n",
    "       def __enter__(self):\n",
    "           stop_database()\n",
    "       def __exit__(self, ext_type, ex_value, ex_traceback):\n",
    "           start_database()\n",
    "           \n",
    "@dbhandler_decorator()\n",
    "def offline_backup():\n",
    "    run(\"pg_dump database\")"
   ]
  },
  {
   "cell_type": "markdown",
   "metadata": {},
   "source": [
    "### Underscores in Python"
   ]
  },
  {
   "cell_type": "code",
   "execution_count": 3,
   "metadata": {},
   "outputs": [],
   "source": [
    "class Connector: \n",
    "    def __init__(self, source):\n",
    "        self.source = source \n",
    "        self._timeout = 60\n",
    "\n",
    "conn = Connector(\"postgresql://localhost\")"
   ]
  },
  {
   "cell_type": "markdown",
   "metadata": {},
   "source": [
    "- In python there are no private variables \n",
    "- The only way we consider private variables is `_variable_name` \n",
    "- There is still a way where we give double underscores `__variable_name`\n",
    "- Although it gives out an attribute error on raising, what it actually does is creates the name in the form `__className__variableName` which still could be accessed by others if they pass it in this syntax. \n",
    "- This way of changing the names of the variables by python is called **Name Mangling**\n",
    "- Hence in python, eventhough this variable `_variablename` is still accessed by other, by convention it should not be accessed. "
   ]
  },
  {
   "cell_type": "code",
   "execution_count": 4,
   "metadata": {},
   "outputs": [
    {
     "data": {
      "text/plain": [
       "'postgresql://localhost'"
      ]
     },
     "execution_count": 4,
     "metadata": {},
     "output_type": "execute_result"
    }
   ],
   "source": [
    "conn.source"
   ]
  },
  {
   "cell_type": "code",
   "execution_count": 5,
   "metadata": {},
   "outputs": [
    {
     "data": {
      "text/plain": [
       "60"
      ]
     },
     "execution_count": 5,
     "metadata": {},
     "output_type": "execute_result"
    }
   ],
   "source": [
    "conn._timeout"
   ]
  },
  {
   "cell_type": "code",
   "execution_count": 6,
   "metadata": {},
   "outputs": [
    {
     "data": {
      "text/plain": [
       "{'source': 'postgresql://localhost', '_timeout': 60}"
      ]
     },
     "execution_count": 6,
     "metadata": {},
     "output_type": "execute_result"
    }
   ],
   "source": [
    "conn.__dict__"
   ]
  },
  {
   "cell_type": "markdown",
   "metadata": {},
   "source": [
    "Using Double Underscore!"
   ]
  },
  {
   "cell_type": "code",
   "execution_count": 7,
   "metadata": {},
   "outputs": [],
   "source": [
    "class Connector:\n",
    "    def __init__(self, source):\n",
    "        self.source = source\n",
    "        self.__timeout = 60\n",
    "    \n",
    "    def connect(self):\n",
    "        print(\"connecting with {0}s\".format(self.__timeout))"
   ]
  },
  {
   "cell_type": "code",
   "execution_count": 19,
   "metadata": {},
   "outputs": [],
   "source": [
    "# Accessing double underscore variable \n",
    "# conn.__timeout\n",
    "\n",
    "# output \n",
    "# ---------------------------------------------------------------------------\n",
    "# AttributeError                            Traceback (most recent call last)\n",
    "# Input In [12], in <cell line: 2>()\n",
    "#       1 # Accessing double underscore variable \n",
    "# ----> 2 conn.__timeout\n",
    "\n",
    "# AttributeError: 'Connector' object has no attribute '__timeout'"
   ]
  },
  {
   "cell_type": "code",
   "execution_count": 20,
   "metadata": {},
   "outputs": [
    {
     "name": "stdout",
     "output_type": "stream",
     "text": [
      "120\n"
     ]
    }
   ],
   "source": [
    "conn._Connector__timeout = 120\n",
    "print(conn._Connector__timeout)"
   ]
  },
  {
   "cell_type": "markdown",
   "metadata": {},
   "source": [
    "Use double underscores (__): When you want to avoid accidental access or when working with subclassing where name clashes might occur."
   ]
  },
  {
   "cell_type": "markdown",
   "metadata": {},
   "source": [
    "### Properties in Python"
   ]
  },
  {
   "cell_type": "markdown",
   "metadata": {},
   "source": [
    "**If Properties and variables are the same, why name them differently?** \n",
    "\n",
    "- When the object needs to just hold values, we can use regular attributes. Sometimes, we might want to do some computations based on the state of the object and the values of other attributes. - Most of the time, properties are a good choice for this.\n",
    "- Properties are to be used when we need to define access control to some attributes in an object, which is another point where Python has its own way of doing things. In other programming \n",
    "languages (like Java), you would create access methods (getters and setters), but idiomatic Python would use properties instead."
   ]
  },
  {
   "cell_type": "code",
   "execution_count": 22,
   "metadata": {},
   "outputs": [],
   "source": [
    "import re\n",
    "EMAIL_FORMAT = re.compile(r\"[^@]+@[^@]+\\.[^@]+\")\n",
    "\n",
    "def is_valid_email(potentially_valid_email: str):\n",
    "    return re.match(EMAIL_FORMAT, potentially_valid_email) is not None\n",
    "\n",
    "class User:\n",
    "\n",
    "    def __init__(self, username):\n",
    "        self.username = username\n",
    "        self._email = None\n",
    "\n",
    "#   By putting email under a property, we obtain some advantages for free. \n",
    "#   In this example, the first @property method will return the value held by the private attribute email. \n",
    "#   As mentioned earlier, the leading underscore determines that this attribute is intended to be used as private, \n",
    "#   and therefore should not be accessed from outside this class.\n",
    "\n",
    "    @property   \n",
    "    def email(self):\n",
    "        return self._email\n",
    "\n",
    "    @email.setter\n",
    "    def email(self, new_email):\n",
    "        if not is_valid_email(new_email):\n",
    "            raise ValueError(f\"Can't set {new_email} as it's not a valid email\")\n",
    "        self._email = new_email"
   ]
  },
  {
   "cell_type": "code",
   "execution_count": 23,
   "metadata": {},
   "outputs": [],
   "source": [
    "u1 = User(\"jsmith\")"
   ]
  },
  {
   "cell_type": "code",
   "execution_count": 26,
   "metadata": {},
   "outputs": [],
   "source": [
    "# u1.email = \"jsmith@\"\n",
    "\n",
    "# output : \n",
    "    \n",
    "# ---------------------------------------------------------------------------\n",
    "# ValueError                                Traceback (most recent call last)\n",
    "# Input In [24], in <cell line: 1>()\n",
    "# ----> 1 u1.email = \"jsmith@\"\n",
    "\n",
    "# Input In [22], in User.email(self, new_email)\n",
    "#      17 @email.setter\n",
    "#      18 def email(self, new_email):\n",
    "#      19     if not is_valid_email(new_email):\n",
    "# ---> 20         raise ValueError(f\"Can't set {new_email} as it's not a valid email\")\n",
    "#      21     self._email = new_email\n",
    "\n",
    "# ValueError: Can't set jsmith@ as it's not a valid email"
   ]
  },
  {
   "cell_type": "markdown",
   "metadata": {},
   "source": [
    "- This approach is much more compact than having custom methods prefixed with get_ or set_. It's clear what is expected because it's just email.\n",
    "\n",
    "- Don't write custom `get_*` and `set_*` methods for all attributes on your objects. Most of the time, leaving them as regular attributes is just enough. If you need to modify the logic for when an attribute is retrieved or modified, then use properties.\n",
    "\n",
    "- Methods should do one thing only. If you have to run an action and then check for the status, so that in separate methods that are called by different statements."
   ]
  },
  {
   "cell_type": "markdown",
   "metadata": {},
   "source": [
    "### Iterable Objects"
   ]
  },
  {
   "cell_type": "markdown",
   "metadata": {},
   "source": [
    "Iteration works in Python by its own protocol (namely the iteration protocol). When you try to iterate an object in the form for e in myobject:..., what Python checks at a very high level are the following two things, in order:\n",
    "If the object contains one of the iterator methods—`__next__` or `__iter__` If the object is a sequence and has `__len__` and `__getitem__`"
   ]
  },
  {
   "cell_type": "markdown",
   "metadata": {},
   "source": [
    "When we try to iterate an object, Python will call the `iter()` function over it. One of the first things this function checks for is the presence of the `__iter__` method on that object, which, if present, will be executed."
   ]
  },
  {
   "cell_type": "code",
   "execution_count": 2,
   "metadata": {},
   "outputs": [],
   "source": [
    "from datetime import timedelta \n",
    "\n",
    "\n",
    "class DateRangeIterable:\n",
    "    \"\"\"An Iterable that contains its own iterator Object\"\"\"\n",
    "    \n",
    "    def __init__(self,start_date, end_date):\n",
    "        self.start_date = start_date\n",
    "        self.end_date = end_date \n",
    "        self._present_day = start_date \n",
    "        \n",
    "    def __iter__(self):\n",
    "        return self\n",
    "    \n",
    "    def __next__(self):\n",
    "        if self._present_day >= self.end_date:\n",
    "            raise StopIteration\n",
    "        today = self._present_day\n",
    "        self._present_day += timedelta(days=1)\n",
    "        return today\n",
    "    "
   ]
  },
  {
   "cell_type": "markdown",
   "metadata": {},
   "source": [
    "**Problem:** The issue with this implementation is that once you've iterated over the date range, the object is \"exhausted.\" If you try to iterate over it again, there will be no dates left, and it will immediately raise a StopIteration exception. This is why the second loop (or any subsequent loop) will not work with the same instance of DateRangeIterable."
   ]
  },
  {
   "cell_type": "code",
   "execution_count": null,
   "metadata": {},
   "outputs": [],
   "source": [
    "class DateRangeContainerIterable:\n",
    "    def __init__(self, start_date, end_date):\n",
    "        self.start_date = start_date\n",
    "        self.end_date = end_date\n",
    "\n",
    "    def __iter__(self):\n",
    "        current_day = self.start_date\n",
    "        while current_day < self.end_date:\n",
    "            yield current_day\n",
    "            current_day += timedelta(days=1)\n"
   ]
  },
  {
   "cell_type": "markdown",
   "metadata": {},
   "source": [
    "**Advantage:** The advantage here is that each time you start a new loop, a new iterator (generator) is created, so the iteration works as expected even if you use the same instance of DateRangeContainerIterable in multiple loops. This avoids the exhaustion issue seen in the first implementation."
   ]
  },
  {
   "cell_type": "markdown",
   "metadata": {},
   "source": [
    "#### Key Concepts\n",
    "- **Iterable vs. Iterator:** An iterable is an object that can return an iterator (via `__iter__()`). An iterator is an object that keeps state and produces the next value when `__next__()` is called.\n",
    "\n",
    "- **Generators:** A generator is a type of iterator that is defined using a function and the yield keyword. It's a powerful way to create iterators because it allows the function to produce a series of values over time rather than all at once."
   ]
  },
  {
   "cell_type": "markdown",
   "metadata": {},
   "source": [
    "### Container Variables"
   ]
  },
  {
   "cell_type": "markdown",
   "metadata": {},
   "source": [
    "A container in Python refers to an object that holds and manages multiple items (elements) within it. Common container types include lists, tuples, dictionaries, and sets. These containers store elements, and you can iterate over them or access their elements individually.\n",
    "\n",
    "**Characteristics of Container Variables:**\n",
    "\n",
    "- **Storage of Elements:** Container variables physically store the elements within them. For example, a list `[1, 2, 3]` stores the elements 1, 2, and 3.\n",
    "- **Random Access:** You can access any element in a container using its index or key (in the case of dictionaries). For example, in a list `my_list[1]` would give you the second element.\n",
    "- **Memory Usage:** Containers generally hold all their elements in memory at once. This means that the memory usage grows with the number of elements."
   ]
  },
  {
   "cell_type": "code",
   "execution_count": null,
   "metadata": {},
   "outputs": [],
   "source": [
    "#Examples of a Container\n",
    "my_list = [1, 2, 3, 4, 5]   # A list container\n",
    "my_dict = {'a': 1, 'b': 2}  # A dictionary container\n"
   ]
  },
  {
   "cell_type": "markdown",
   "metadata": {},
   "source": [
    "### Generator Objects"
   ]
  },
  {
   "cell_type": "markdown",
   "metadata": {},
   "source": [
    "A **generator** in Python is a special kind of iterator. Instead of holding all the elements in memory at once like a container, a generator generates elements on the fly as you iterate over it. Generators are created using functions that include the yield keyword."
   ]
  },
  {
   "cell_type": "markdown",
   "metadata": {},
   "source": [
    "**Characteristics of Generator Objects:**\n",
    "\n",
    "- **Lazy Evaluation:** Generators do not store elements in memory. Instead, they compute each value only when needed, making them memory-efficient, especially for large datasets or infinite sequences.\n",
    "- **No Random Access:** Unlike containers, you cannot randomly access elements of a generator. You can only retrieve the next value using the next() function or by iterating over the generator.\n",
    "- **Memory Usage:** Generators are more memory-efficient than containers because they generate one item at a time and do not store all elements in memory.\n",
    "- **Finite or Infinite:** Generators can be finite or infinite. A finite generator will eventually raise a StopIteration exception when no more elements are left to generate, while an infinite generator could keep generating elements indefinitely."
   ]
  },
  {
   "cell_type": "code",
   "execution_count": 5,
   "metadata": {},
   "outputs": [
    {
     "name": "stdout",
     "output_type": "stream",
     "text": [
      "1\n",
      "2\n",
      "3\n"
     ]
    }
   ],
   "source": [
    "def my_generator():\n",
    "    yield 1\n",
    "    yield 2\n",
    "    yield 3\n",
    "\n",
    "gen = my_generator()  # gen is now a generator object\n",
    "\n",
    "print(next(gen))  # Output: 1\n",
    "print(next(gen))  # Output: 2\n",
    "print(next(gen))  # Output: 3"
   ]
  },
  {
   "cell_type": "code",
   "execution_count": 7,
   "metadata": {},
   "outputs": [],
   "source": [
    "# print(next(gen)) # Will Error out since we are going to the end of the list item\n",
    "\n",
    "# {\n",
    "# \t\"name\": \"StopIteration\",\n",
    "# \t\"message\": \"\",\n",
    "# \t\"stack\": \"---------------------------------------------------------------------------\n",
    "# StopIteration                             Traceback (most recent call last)\n",
    "# Input In [6], in <cell line: 1>()\n",
    "# ----> 1 print(next(gen))\n",
    "\n",
    "# StopIteration: \"\n",
    "# }"
   ]
  },
  {
   "cell_type": "markdown",
   "metadata": {},
   "source": [
    "### Differences Between Container and Generator Objects"
   ]
  },
  {
   "cell_type": "markdown",
   "metadata": {},
   "source": [
    "- **State:** Generators maintain state between successive calls, remembering where they left off and continuing from there on the next call.\n",
    "- **One-Time Use:** Once a generator has been exhausted (i.e., you've retrieved all its elements), it cannot be reused. You would need to create a new generator if you want to iterate again.\n",
    "- Containers are useful when you need to store and repeatedly access elements, particularly if you need random access or if the data set is small enough to comfortably fit in memory.\n",
    "- Generators are ideal when you're working with large data sets or streams of data where you don't want to load everything into memory at once. They're also useful when you need to generate a sequence of values on-the-fly or work with potentially infinite sequences.\n",
    "- Containers are like storage units holding all your items neatly organized, where you can pick and choose any item at any time.\n",
    "- Generators are like conveyor belts that produce items one by one as you request them, without storing all the items upfront, making them more efficient for certain tasks."
   ]
  },
  {
   "cell_type": "markdown",
   "metadata": {},
   "source": [
    "### Creating sequences"
   ]
  },
  {
   "cell_type": "markdown",
   "metadata": {},
   "source": [
    "A sequence is an object that implements `__len__` and `__getitem__` and expects to be able to get the elements it contains, one at a time, in order, starting at zero as the first index. This means that you should be careful in the logic so that you correctly implement `__getitem__` to expect this type of index, or the iteration will not work.\n",
    "\n",
    "The example from the previous section had the advantage that it uses less memory. This means that is only holding one date at a time, and knows how to produce the days one by one. However, it has the drawback that if we want to get the nth element, we have no way to do so but iterate n-times until we reach it. This is a typical trade-off in computer science between memory and CPU usage.\n",
    "\n",
    "The implementation with an iterable will use less memory, but it takes up to O(n) to get an element, whereas implementing a sequence will use more memory (because we have to hold everything at once), but supports indexing in constant time, O(1)."
   ]
  },
  {
   "cell_type": "code",
   "execution_count": 8,
   "metadata": {},
   "outputs": [],
   "source": [
    "# New Implementation on the DateRangeSequence \n",
    "\n",
    "class DateRangeSequence:\n",
    "    \n",
    "    def __init__(self,start_date, end_date):\n",
    "        self.start_date = start_date \n",
    "        self.end_date = end_date \n",
    "        self._range = self._create_range()\n",
    "        \n",
    "    def _create_range(self):\n",
    "        days = []\n",
    "        current_days = self.start_date\n",
    "        while current_days < self.end_date:\n",
    "            days.append(current_days)\n",
    "            current_days += timedelta(days=1)\n",
    "        return days \n",
    "    \n",
    "    def __getitem__(self, day_no):\n",
    "        return self._range[day_no]\n",
    "    \n",
    "    def __len__(self):\n",
    "        return len(self._range)\n",
    "            "
   ]
  },
  {
   "cell_type": "markdown",
   "metadata": {},
   "source": [
    "### Container Objects in Detail"
   ]
  },
  {
   "cell_type": "markdown",
   "metadata": {},
   "source": [
    "Containers are objects that implement a `__contains__` method (that usually returns a Boolean value). This method is called in the presence of the in keyword of Python.\n",
    "Something like the following: `element in container`"
   ]
  },
  {
   "cell_type": "code",
   "execution_count": 10,
   "metadata": {},
   "outputs": [],
   "source": [
    "# when used, it becomes like this \n",
    "# container.__contains__(element)"
   ]
  },
  {
   "cell_type": "markdown",
   "metadata": {},
   "source": [
    "Let's say we have to mark some points on a map of a game that has two-dimensional coordinates. We might expect to find a function like the following:"
   ]
  },
  {
   "cell_type": "code",
   "execution_count": 11,
   "metadata": {},
   "outputs": [],
   "source": [
    "def mark_coordinate(grid, coord):\n",
    "    if 0 <= coord.x < grid.width and 0 <= coord.y < grid.height:\n",
    "        grid[coord] = \"MARKED\""
   ]
  },
  {
   "cell_type": "markdown",
   "metadata": {},
   "source": [
    "- Now, the part that checks the condition of the first if statement seems convoluted; it doesn't reveal the intention of the code, it's not expressive, and worst of all it calls for code duplication (every part of the code where we need to check the boundaries before proceeding will have to repeat that if statement).\n",
    "- What if the map itself (called grid on the code) could answer this question? Even better, what if the map could delegate this action to an even smaller (and hence more cohesive) object? Therefore, we can ask the map if it contains a coordinate, and the map itself can have information about its limit, and ask this object the following:"
   ]
  },
  {
   "cell_type": "code",
   "execution_count": 12,
   "metadata": {},
   "outputs": [],
   "source": [
    "class Boundaries:\n",
    "    \n",
    "    def __init__(self, width, height):\n",
    "        self.width = width \n",
    "        self.height = height \n",
    "    def __contains__(self, coord):\n",
    "        x,y = coord\n",
    "        return 0 < x <= self.width and 0 <= y < self.height\n",
    "    \n",
    "class Grid: \n",
    "    \n",
    "    def __init__(self, width, height):\n",
    "        self.width = width \n",
    "        self.height = height \n",
    "        self.limits = Boundaries(width, height)\n",
    "        \n",
    "    def __contains__(self, coord):\n",
    "        return coord in self.limits"
   ]
  },
  {
   "cell_type": "markdown",
   "metadata": {},
   "source": [
    "### Dynamic attributes for objects"
   ]
  },
  {
   "cell_type": "markdown",
   "metadata": {},
   "source": [
    "**Attributes in Python**\n",
    "- In Python, an attribute is a value or method that is associated with an object. For example, if you have an object car with an attribute color, you can access this attribute using car.color.\n",
    "- To get the attribute in a class you use the `__getattr__`  and `__getattribute__` method. When someone calls the obj.myattribute , Python will check if the attribute is present. If its present, then it will use the `__getattribute__` method to fetch it. If the dyanmic attribute is not present, then it will use the `__getattr__` magic method. This method will check on the attribute passed.\n"
   ]
  },
  {
   "cell_type": "code",
   "execution_count": 1,
   "metadata": {},
   "outputs": [
    {
     "data": {
      "text/plain": [
       "'value'"
      ]
     },
     "execution_count": 1,
     "metadata": {},
     "output_type": "execute_result"
    }
   ],
   "source": [
    "# Assume that the attribute is passed like this \n",
    "\n",
    "class DynamicAttributes:\n",
    "    def __init__(self, attribute):\n",
    "        self.attribute = attribute\n",
    "\n",
    "    def __getattr__(self, attr):\n",
    "        if attr.startswith(\"fallback_\"):\n",
    "            name = attr.replace(\"fallback_\", \"\")\n",
    "            return f\"[fallback resolved] {name}\"\n",
    "        raise AttributeError(f\"{self.__class__.__name__} has no attribute {attr}\")\n",
    "\n",
    "dyn = DynamicAttributes(\"value\")\n",
    "dyn.attribute"
   ]
  },
  {
   "cell_type": "markdown",
   "metadata": {},
   "source": [
    "As the attribute exists it will not use the `__getattr__` method. Now lets ask something it does not have"
   ]
  },
  {
   "cell_type": "code",
   "execution_count": 2,
   "metadata": {},
   "outputs": [
    {
     "data": {
      "text/plain": [
       "'[fallback resolved] test'"
      ]
     },
     "execution_count": 2,
     "metadata": {},
     "output_type": "execute_result"
    }
   ],
   "source": [
    "dyn.fallback_test"
   ]
  },
  {
   "cell_type": "markdown",
   "metadata": {},
   "source": [
    "The `__getattr__` Method:\n",
    "\n",
    "The `__getattr__` method is where things get interesting. This method is called only when the attribute you're trying to access does not exist in the object.\n",
    "In this implementation, `__getattr__` does the following:\n",
    "If the attribute name starts with \"fallback_\", it processes it and returns a custom string.\n",
    "If the attribute name does not start with \"fallback_\", it raises an AttributeError, which tells Python that the attribute does not exist."
   ]
  },
  {
   "cell_type": "markdown",
   "metadata": {},
   "source": [
    "**Important Points to Remember**\n",
    "\n",
    "- `__getattr__` is called only for missing attributes: It is only invoked when Python cannot find the requested attribute using normal attribute access.\n",
    "- Raising AttributeError in `__getattr__` is critical:\n",
    "\n",
    "    - If the attribute doesn't match the logic inside `__getattr__`, you need to raise AttributeError. This is important for consistency with Python's attribute lookup behavior.\n",
    "    - It ensures that functions like getattr() behave properly when a default value is provided. If any other exception were raised, `getattr()` wouldn't return the default value.\n",
    "    - Be cautious with `__getattr__`: It makes attribute access highly dynamic and flexible but can introduce unexpected behavior if not used carefully. This method should only be implemented when necessary.\n",
    "\n"
   ]
  },
  {
   "cell_type": "markdown",
   "metadata": {},
   "source": [
    "**Summary**\n",
    "- `__getattribute__` is the default method Python uses for attribute lookup, and it's automatically called whenever an attribute is accessed.\n",
    "- `__getattr__` is a backup that is triggered when the attribute is not found.\n",
    "The provided example demonstrates how `__getattr__` can be used to handle missing attributes in a controlled way, such as dynamically resolving attribute names or providing fallback values.\n",
    "This explanation should help clarify the concept of dynamic attribute access using `__getattr__`."
   ]
  },
  {
   "cell_type": "code",
   "execution_count": null,
   "metadata": {},
   "outputs": [],
   "source": []
  }
 ],
 "metadata": {
  "kernelspec": {
   "display_name": "Python 3",
   "language": "python",
   "name": "python3"
  },
  "language_info": {
   "codemirror_mode": {
    "name": "ipython",
    "version": 3
   },
   "file_extension": ".py",
   "mimetype": "text/x-python",
   "name": "python",
   "nbconvert_exporter": "python",
   "pygments_lexer": "ipython3",
   "version": "3.9.12"
  }
 },
 "nbformat": 4,
 "nbformat_minor": 2
}
